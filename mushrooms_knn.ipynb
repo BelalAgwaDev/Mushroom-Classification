{
 "cells": [
  {
   "cell_type": "markdown",
   "metadata": {
    "id": "LAzIOn7UUH4B"
   },
   "source": [
    "# **import library**"
   ]
  },
  {
   "cell_type": "code",
   "execution_count": 19,
   "metadata": {
    "id": "epRYKsc0TzY8"
   },
   "outputs": [],
   "source": [
    "import pickle\n",
    "import numpy as np\n",
    "import pandas as pd\n",
    "from sklearn import svm\n",
    "from sklearn.preprocessing import LabelEncoder\n",
    "from sklearn.model_selection import train_test_split\n",
    "np.random.seed(42)"
   ]
  },
  {
   "cell_type": "markdown",
   "metadata": {
    "id": "a5OQ7ckjURAi"
   },
   "source": [
    "# **load data**"
   ]
  },
  {
   "cell_type": "code",
   "execution_count": 20,
   "metadata": {
    "id": "3mt6yNeOT2mu"
   },
   "outputs": [],
   "source": [
    "#load data\n",
    "load_data=pd.read_csv(r\"/content/mushrooms.csv\")"
   ]
  },
  {
   "cell_type": "markdown",
   "metadata": {
    "id": "qZBF4RJrUcPz"
   },
   "source": [
    "#view sample data\n"
   ]
  },
  {
   "cell_type": "code",
   "execution_count": 21,
   "metadata": {
    "id": "NAHdStCcUY1O"
   },
   "outputs": [],
   "source": [
    "#print(load_data.head())"
   ]
  },
  {
   "cell_type": "markdown",
   "metadata": {
    "id": "Gm7KwJTtU0tN"
   },
   "source": [
    "# **handel missing data**"
   ]
  },
  {
   "cell_type": "code",
   "execution_count": 22,
   "metadata": {
    "id": "eqfEdgkGUbxL"
   },
   "outputs": [],
   "source": [
    "#print(load_data.info())\n",
    "#print(load_data.isna())\n"
   ]
  },
  {
   "cell_type": "markdown",
   "metadata": {
    "id": "vTtT68pSVF_9"
   },
   "source": [
    "# ** map labled data **"
   ]
  },
  {
   "cell_type": "code",
   "execution_count": 23,
   "metadata": {
    "id": "r2wah3tmVBnM"
   },
   "outputs": [],
   "source": [
    "X=load_data.drop('class',axis=1)\n",
    "y=load_data['class']"
   ]
  },
  {
   "cell_type": "markdown",
   "metadata": {
    "id": "KH2oGfTuVknT"
   },
   "source": [
    "# **convert letters to numbers**"
   ]
  },
  {
   "cell_type": "code",
   "execution_count": 24,
   "metadata": {
    "id": "yp3083bcV0tf"
   },
   "outputs": [],
   "source": [
    "Encoder_x=LabelEncoder()\n",
    "for col in X.columns:\n",
    "    X[col]=Encoder_x.fit_transform(X[col])\n",
    "Encoder_y=LabelEncoder()\n",
    "y=Encoder_y.fit_transform(y)"
   ]
  },
  {
   "cell_type": "markdown",
   "metadata": {
    "id": "YKxofxgHV3lm"
   },
   "source": [
    "#**split data to train \\ test**"
   ]
  },
  {
   "cell_type": "code",
   "execution_count": 25,
   "metadata": {
    "id": "_7RJq4sPV9cG"
   },
   "outputs": [],
   "source": [
    "x_train,x_test,y_train,y_test=train_test_split(X,y,test_size=0.2)"
   ]
  },
  {
   "cell_type": "markdown",
   "metadata": {
    "id": "R4T1QWfoWJH8"
   },
   "source": [
    "#**choose model**\n",
    "\n"
   ]
  },
  {
   "cell_type": "code",
   "execution_count": 26,
   "metadata": {
    "id": "Z_rN1aApV_tx"
   },
   "outputs": [],
   "source": [
    "from sklearn.neighbors import KNeighborsClassifier\n",
    "model = KNeighborsClassifier(n_neighbors=3) \n"
   ]
  },
  {
   "cell_type": "markdown",
   "metadata": {
    "id": "gP_LmB1uWO5D"
   },
   "source": [
    "#**train model** "
   ]
  },
  {
   "cell_type": "code",
   "execution_count": 27,
   "metadata": {
    "colab": {
     "base_uri": "https://localhost:8080/"
    },
    "id": "a9txL9BxWyyC",
    "outputId": "ff024fad-3482-47b2-b025-f8e0ba9e4768"
   },
   "outputs": [
    {
     "data": {
      "text/plain": [
       "KNeighborsClassifier(algorithm='auto', leaf_size=30, metric='minkowski',\n",
       "                     metric_params=None, n_jobs=None, n_neighbors=3, p=2,\n",
       "                     weights='uniform')"
      ]
     },
     "execution_count": 27,
     "metadata": {
      "tags": []
     },
     "output_type": "execute_result"
    }
   ],
   "source": [
    "model.fit(x_train,y_train)"
   ]
  },
  {
   "cell_type": "markdown",
   "metadata": {
    "id": "Oo-CAHCrbzTW"
   },
   "source": [
    "# **validate modle**"
   ]
  },
  {
   "cell_type": "code",
   "execution_count": 28,
   "metadata": {
    "colab": {
     "base_uri": "https://localhost:8080/"
    },
    "id": "SLFF_w0gbw3c",
    "outputId": "e0e9f885-0b6c-4113-a8bf-831e16ba14bc"
   },
   "outputs": [
    {
     "name": "stdout",
     "output_type": "stream",
     "text": [
      "0.9998461301738729\n",
      "0.9981538461538462\n"
     ]
    }
   ],
   "source": [
    "print(model.score(x_train , y_train))\n",
    "print(model.score(x_test , y_test))"
   ]
  },
  {
   "cell_type": "markdown",
   "metadata": {
    "id": "DozjQGhXcGyF"
   },
   "source": [
    "#**save model** \n"
   ]
  },
  {
   "cell_type": "code",
   "execution_count": 29,
   "metadata": {
    "id": "CXT3ilUZb3er"
   },
   "outputs": [],
   "source": [
    "pickle.dump(model , open(r\"mushrooms.pkl\",\"wb\"))"
   ]
  }
 ],
 "metadata": {
  "colab": {
   "collapsed_sections": [],
   "name": " mushrooms knc.ipynb",
   "provenance": [],
   "toc_visible": true
  },
  "kernelspec": {
   "display_name": "Python 3",
   "language": "python",
   "name": "python3"
  },
  "language_info": {
   "codemirror_mode": {
    "name": "ipython",
    "version": 3
   },
   "file_extension": ".py",
   "mimetype": "text/x-python",
   "name": "python",
   "nbconvert_exporter": "python",
   "pygments_lexer": "ipython3",
   "version": "3.8.5"
  }
 },
 "nbformat": 4,
 "nbformat_minor": 1
}
